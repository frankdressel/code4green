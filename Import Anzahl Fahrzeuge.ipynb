{
 "cells": [
  {
   "cell_type": "code",
   "execution_count": 244,
   "metadata": {},
   "outputs": [],
   "source": [
    "import numpy as np\n",
    "import pandas as pd"
   ]
  },
  {
   "cell_type": "code",
   "execution_count": 245,
   "metadata": {},
   "outputs": [],
   "source": [
    "# Daten definieren\n",
    "source = \"EXPORT_OR.csv\"     # Datenquelle\n",
    "hour_var = 7     # Periode auswählen (X bis X+1 Uhr)\n",
    "station_id_list = [100201010001491, \n",
    "                   100201010031096, \n",
    "                   100201010031100, \n",
    "                   100201010031807]    # IDs für die Datenquellen; falsche Stationen wg Problemen unten\n",
    "\n",
    "# richtige Stationen: [100201010028268, 100201010040190, 100201010011292, 100201010038271]"
   ]
  },
  {
   "cell_type": "code",
   "execution_count": 246,
   "metadata": {},
   "outputs": [
    {
     "name": "stdout",
     "output_type": "stream",
     "text": [
      "(1025559, 7)\n"
     ]
    }
   ],
   "source": [
    "# Daten einlesen; Daten liegen im selben Ordner wie das Script\n",
    "traffic_df = pd.read_csv(source, sep = \";\")"
   ]
  },
  {
   "cell_type": "code",
   "execution_count": 247,
   "metadata": {},
   "outputs": [
    {
     "data": {
      "text/plain": [
       "array([100201010001491, 100201010031096, 100201010031100, 100201010031807,\n",
       "       100201010031908, 100201010032009, 100201010032110, 100201010043527,\n",
       "       100201010043628, 100201010044133], dtype=int64)"
      ]
     },
     "execution_count": 247,
     "metadata": {},
     "output_type": "execute_result"
    }
   ],
   "source": [
    "# PROBLEM: wieso werden nicht alle Daten geladen???\n",
    "traffic_df[\"MQ_ID15\"].unique()"
   ]
  },
  {
   "cell_type": "code",
   "execution_count": 248,
   "metadata": {},
   "outputs": [],
   "source": [
    "# benötigte Stationen auswählen\n",
    "traffic_df = traffic_df.loc[traffic_df[\"MQ_ID15\"].isin(station_id_list)]\n",
    "# unnütze Spalten droppen\n",
    "traffic_df = traffic_df.drop([\"TS_END_LOCAL\", \"Q_PKW_MQ\", \"Q_LKW_MQ\", \"V_KFZ_MQ\"], axis = 1)\n",
    "# Spalten Datum, Uhrzeit, 5-Minuten-Periode generieren\n",
    "a = traffic_df[\"TS_BEGIN_LOCAL\"].str.split(\" \")\n",
    "traffic_df[\"DATE\"] = a.str.get(0)\n",
    "a = a.str.get(1).str.split(\":\")\n",
    "traffic_df[\"HOUR\"] = pd.to_numeric(a.str.get(0))\n",
    "traffic_df[\"5MINSTART\"] = pd.to_numeric(a.str.get(1))\n",
    "# unnütze Spalten droppen\n",
    "traffic_df = traffic_df.drop(\"TS_BEGIN_LOCAL\", axis = 1)\n",
    "# Durschnittliche Anzahl Fahrzeuge in gewünschter Periode auswählen (in 2017)\n",
    "# gerundet auf integer\n",
    "output = traffic_df.loc[traffic_df[\"HOUR\"] == hour_var]\n",
    "output = output.groupby(by = [\"MQ_ID15\", \"HOUR\"], axis = 0).mean().round()"
   ]
  },
  {
   "cell_type": "code",
   "execution_count": 249,
   "metadata": {},
   "outputs": [
    {
     "data": {
      "text/html": [
       "<div>\n",
       "<style scoped>\n",
       "    .dataframe tbody tr th:only-of-type {\n",
       "        vertical-align: middle;\n",
       "    }\n",
       "\n",
       "    .dataframe tbody tr th {\n",
       "        vertical-align: top;\n",
       "    }\n",
       "\n",
       "    .dataframe thead th {\n",
       "        text-align: right;\n",
       "    }\n",
       "</style>\n",
       "<table border=\"1\" class=\"dataframe\">\n",
       "  <thead>\n",
       "    <tr style=\"text-align: right;\">\n",
       "      <th></th>\n",
       "      <th></th>\n",
       "      <th>Q_KFZ_MQ</th>\n",
       "      <th>5MINSTART</th>\n",
       "    </tr>\n",
       "    <tr>\n",
       "      <th>MQ_ID15</th>\n",
       "      <th>HOUR</th>\n",
       "      <th></th>\n",
       "      <th></th>\n",
       "    </tr>\n",
       "  </thead>\n",
       "  <tbody>\n",
       "    <tr>\n",
       "      <th>100201010001491</th>\n",
       "      <th>7</th>\n",
       "      <td>1208.0</td>\n",
       "      <td>27.0</td>\n",
       "    </tr>\n",
       "    <tr>\n",
       "      <th>100201010031096</th>\n",
       "      <th>7</th>\n",
       "      <td>279.0</td>\n",
       "      <td>27.0</td>\n",
       "    </tr>\n",
       "    <tr>\n",
       "      <th>100201010031100</th>\n",
       "      <th>7</th>\n",
       "      <td>290.0</td>\n",
       "      <td>27.0</td>\n",
       "    </tr>\n",
       "    <tr>\n",
       "      <th>100201010031807</th>\n",
       "      <th>7</th>\n",
       "      <td>895.0</td>\n",
       "      <td>27.0</td>\n",
       "    </tr>\n",
       "  </tbody>\n",
       "</table>\n",
       "</div>"
      ],
      "text/plain": [
       "                      Q_KFZ_MQ  5MINSTART\n",
       "MQ_ID15         HOUR                     \n",
       "100201010001491 7       1208.0       27.0\n",
       "100201010031096 7        279.0       27.0\n",
       "100201010031100 7        290.0       27.0\n",
       "100201010031807 7        895.0       27.0"
      ]
     },
     "execution_count": 249,
     "metadata": {},
     "output_type": "execute_result"
    }
   ],
   "source": [
    "output.head()"
   ]
  }
 ],
 "metadata": {
  "kernelspec": {
   "display_name": "Python 3",
   "language": "python",
   "name": "python3"
  },
  "language_info": {
   "codemirror_mode": {
    "name": "ipython",
    "version": 3
   },
   "file_extension": ".py",
   "mimetype": "text/x-python",
   "name": "python",
   "nbconvert_exporter": "python",
   "pygments_lexer": "ipython3",
   "version": "3.7.0"
  }
 },
 "nbformat": 4,
 "nbformat_minor": 2
}
